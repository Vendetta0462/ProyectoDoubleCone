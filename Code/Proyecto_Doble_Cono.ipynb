{
 "cells": [
  {
   "cell_type": "code",
   "execution_count": 2,
   "metadata": {
    "id": "4yD13GsQ1CEp"
   },
   "outputs": [],
   "source": [
    "import numpy as np\n",
    "import pandas as pd\n",
    "import matplotlib.pyplot as plt\n",
    "import astropy.units as u\n",
    "import astropy.constants as cte"
   ]
  },
  {
   "cell_type": "markdown",
   "metadata": {
    "id": "Yylp0ZlM7yry"
   },
   "source": [
    "# Theoretical Analysis"
   ]
  },
  {
   "cell_type": "code",
   "execution_count": 41,
   "metadata": {
    "id": "MUyQ186W75NN"
   },
   "outputs": [],
   "source": [
    "#Initial parameters\n",
    "m = 0.255 * u.kg\n",
    "R = (4.5 * u.cm).to(u.m)\n",
    "l = (10 * u.cm).to(u.m)\n",
    "L = (70 * u.cm).to(u.m)\n",
    "I = ((3/5) * m * R**2) \n",
    "the = np.arctan(R/l)\n",
    "phi = np.arctan((5*u.cm).to(u.m)/L)\n",
    "psi = (15 * u.degree).to(u.rad)"
   ]
  },
  {
   "cell_type": "code",
   "execution_count": 12,
   "metadata": {
    "colab": {
     "base_uri": "https://localhost:8080/"
    },
    "id": "II0J1RIKG4-k",
    "outputId": "674a2728-47b8-44f9-e3ae-b879bc196bd2"
   },
   "outputs": [
    {
     "name": "stdout",
     "output_type": "stream",
     "text": [
      "The condition is accomplished\n",
      "The equilibrium psi angle is: 9.02 deg\n"
     ]
    }
   ],
   "source": [
    "#Validatin tangents condition and calculating equilibrium psi\n",
    "if np.tan(phi) < np.tan(psi)*np.tan(the):\n",
    "  print(\"The condition is accomplished\")\n",
    "else:\n",
    "  print(\"The condition isn't accomplished, change initial parameters\")\n",
    "\n",
    "eq_psi = np.arctan(np.tan(phi)/np.tan(the))\n",
    "print(\"The equilibrium psi angle is:\", round(eq_psi.to(u.deg).value,2)*u.deg)"
   ]
  },
  {
   "cell_type": "code",
   "execution_count": 13,
   "metadata": {
    "id": "_fGQDuQpLczW"
   },
   "outputs": [],
   "source": [
    "#Calculatin height over time\n",
    "#r = R-np.tan(the)*np.tan(psi)*x\n"
   ]
  },
  {
   "cell_type": "markdown",
   "metadata": {
    "id": "r7MqcE1B0L01"
   },
   "source": [
    "# Importing Data"
   ]
  },
  {
   "cell_type": "code",
   "execution_count": 74,
   "metadata": {},
   "outputs": [
    {
     "data": {
      "text/html": [
       "<div>\n",
       "<style scoped>\n",
       "    .dataframe tbody tr th:only-of-type {\n",
       "        vertical-align: middle;\n",
       "    }\n",
       "\n",
       "    .dataframe tbody tr th {\n",
       "        vertical-align: top;\n",
       "    }\n",
       "\n",
       "    .dataframe thead th {\n",
       "        text-align: right;\n",
       "    }\n",
       "</style>\n",
       "<table border=\"1\" class=\"dataframe\">\n",
       "  <thead>\n",
       "    <tr style=\"text-align: right;\">\n",
       "      <th></th>\n",
       "      <th>t</th>\n",
       "      <th>x</th>\n",
       "      <th>y</th>\n",
       "    </tr>\n",
       "  </thead>\n",
       "  <tbody>\n",
       "    <tr>\n",
       "      <th>0</th>\n",
       "      <td>0.000</td>\n",
       "      <td>0.001000</td>\n",
       "      <td>0.06533</td>\n",
       "    </tr>\n",
       "    <tr>\n",
       "      <th>1</th>\n",
       "      <td>0.033</td>\n",
       "      <td>0.002503</td>\n",
       "      <td>0.06544</td>\n",
       "    </tr>\n",
       "    <tr>\n",
       "      <th>2</th>\n",
       "      <td>0.067</td>\n",
       "      <td>0.004350</td>\n",
       "      <td>0.06563</td>\n",
       "    </tr>\n",
       "    <tr>\n",
       "      <th>3</th>\n",
       "      <td>0.100</td>\n",
       "      <td>0.006397</td>\n",
       "      <td>0.06618</td>\n",
       "    </tr>\n",
       "    <tr>\n",
       "      <th>4</th>\n",
       "      <td>0.133</td>\n",
       "      <td>0.008623</td>\n",
       "      <td>0.06659</td>\n",
       "    </tr>\n",
       "    <tr>\n",
       "      <th>...</th>\n",
       "      <td>...</td>\n",
       "      <td>...</td>\n",
       "      <td>...</td>\n",
       "    </tr>\n",
       "    <tr>\n",
       "      <th>74</th>\n",
       "      <td>2.467</td>\n",
       "      <td>0.334000</td>\n",
       "      <td>0.05993</td>\n",
       "    </tr>\n",
       "    <tr>\n",
       "      <th>75</th>\n",
       "      <td>2.500</td>\n",
       "      <td>0.336000</td>\n",
       "      <td>0.05977</td>\n",
       "    </tr>\n",
       "    <tr>\n",
       "      <th>76</th>\n",
       "      <td>2.533</td>\n",
       "      <td>0.337000</td>\n",
       "      <td>0.05969</td>\n",
       "    </tr>\n",
       "    <tr>\n",
       "      <th>77</th>\n",
       "      <td>2.567</td>\n",
       "      <td>0.338000</td>\n",
       "      <td>0.05966</td>\n",
       "    </tr>\n",
       "    <tr>\n",
       "      <th>78</th>\n",
       "      <td>2.600</td>\n",
       "      <td>0.339000</td>\n",
       "      <td>0.05967</td>\n",
       "    </tr>\n",
       "  </tbody>\n",
       "</table>\n",
       "<p>79 rows × 3 columns</p>\n",
       "</div>"
      ],
      "text/plain": [
       "        t         x        y\n",
       "0   0.000  0.001000  0.06533\n",
       "1   0.033  0.002503  0.06544\n",
       "2   0.067  0.004350  0.06563\n",
       "3   0.100  0.006397  0.06618\n",
       "4   0.133  0.008623  0.06659\n",
       "..    ...       ...      ...\n",
       "74  2.467  0.334000  0.05993\n",
       "75  2.500  0.336000  0.05977\n",
       "76  2.533  0.337000  0.05969\n",
       "77  2.567  0.338000  0.05966\n",
       "78  2.600  0.339000  0.05967\n",
       "\n",
       "[79 rows x 3 columns]"
      ]
     },
     "execution_count": 74,
     "metadata": {},
     "output_type": "execute_result"
    }
   ],
   "source": [
    "data1 = pd.read_csv(\"../Data/10.csv\", skiprows=1)\n",
    "data1"
   ]
  },
  {
   "cell_type": "code",
   "execution_count": 76,
   "metadata": {},
   "outputs": [
    {
     "data": {
      "text/html": [
       "<div>\n",
       "<style scoped>\n",
       "    .dataframe tbody tr th:only-of-type {\n",
       "        vertical-align: middle;\n",
       "    }\n",
       "\n",
       "    .dataframe tbody tr th {\n",
       "        vertical-align: top;\n",
       "    }\n",
       "\n",
       "    .dataframe thead th {\n",
       "        text-align: right;\n",
       "    }\n",
       "</style>\n",
       "<table border=\"1\" class=\"dataframe\">\n",
       "  <thead>\n",
       "    <tr style=\"text-align: right;\">\n",
       "      <th></th>\n",
       "      <th>t</th>\n",
       "      <th>x</th>\n",
       "      <th>y</th>\n",
       "    </tr>\n",
       "  </thead>\n",
       "  <tbody>\n",
       "    <tr>\n",
       "      <th>0</th>\n",
       "      <td>0.000</td>\n",
       "      <td>-0.005834</td>\n",
       "      <td>0.07617</td>\n",
       "    </tr>\n",
       "    <tr>\n",
       "      <th>1</th>\n",
       "      <td>0.033</td>\n",
       "      <td>-0.004607</td>\n",
       "      <td>0.07636</td>\n",
       "    </tr>\n",
       "    <tr>\n",
       "      <th>2</th>\n",
       "      <td>0.067</td>\n",
       "      <td>-0.003080</td>\n",
       "      <td>0.07727</td>\n",
       "    </tr>\n",
       "    <tr>\n",
       "      <th>3</th>\n",
       "      <td>0.100</td>\n",
       "      <td>-0.000846</td>\n",
       "      <td>0.07749</td>\n",
       "    </tr>\n",
       "    <tr>\n",
       "      <th>4</th>\n",
       "      <td>0.133</td>\n",
       "      <td>0.001727</td>\n",
       "      <td>0.07813</td>\n",
       "    </tr>\n",
       "    <tr>\n",
       "      <th>...</th>\n",
       "      <td>...</td>\n",
       "      <td>...</td>\n",
       "      <td>...</td>\n",
       "    </tr>\n",
       "    <tr>\n",
       "      <th>93</th>\n",
       "      <td>3.100</td>\n",
       "      <td>0.353000</td>\n",
       "      <td>0.05806</td>\n",
       "    </tr>\n",
       "    <tr>\n",
       "      <th>94</th>\n",
       "      <td>3.133</td>\n",
       "      <td>0.354000</td>\n",
       "      <td>0.05804</td>\n",
       "    </tr>\n",
       "    <tr>\n",
       "      <th>95</th>\n",
       "      <td>3.167</td>\n",
       "      <td>0.355000</td>\n",
       "      <td>0.05803</td>\n",
       "    </tr>\n",
       "    <tr>\n",
       "      <th>96</th>\n",
       "      <td>3.200</td>\n",
       "      <td>0.356000</td>\n",
       "      <td>0.05801</td>\n",
       "    </tr>\n",
       "    <tr>\n",
       "      <th>97</th>\n",
       "      <td>3.233</td>\n",
       "      <td>0.356000</td>\n",
       "      <td>0.05767</td>\n",
       "    </tr>\n",
       "  </tbody>\n",
       "</table>\n",
       "<p>98 rows × 3 columns</p>\n",
       "</div>"
      ],
      "text/plain": [
       "        t         x        y\n",
       "0   0.000 -0.005834  0.07617\n",
       "1   0.033 -0.004607  0.07636\n",
       "2   0.067 -0.003080  0.07727\n",
       "3   0.100 -0.000846  0.07749\n",
       "4   0.133  0.001727  0.07813\n",
       "..    ...       ...      ...\n",
       "93  3.100  0.353000  0.05806\n",
       "94  3.133  0.354000  0.05804\n",
       "95  3.167  0.355000  0.05803\n",
       "96  3.200  0.356000  0.05801\n",
       "97  3.233  0.356000  0.05767\n",
       "\n",
       "[98 rows x 3 columns]"
      ]
     },
     "execution_count": 76,
     "metadata": {},
     "output_type": "execute_result"
    }
   ],
   "source": [
    "data2 = pd.read_csv(\"../Data/5,1.csv\", skiprows=1)\n",
    "data2"
   ]
  },
  {
   "cell_type": "code",
   "execution_count": 73,
   "metadata": {
    "id": "KMFcO2iRCNsH"
   },
   "outputs": [
    {
     "data": {
      "text/html": [
       "<div>\n",
       "<style scoped>\n",
       "    .dataframe tbody tr th:only-of-type {\n",
       "        vertical-align: middle;\n",
       "    }\n",
       "\n",
       "    .dataframe tbody tr th {\n",
       "        vertical-align: top;\n",
       "    }\n",
       "\n",
       "    .dataframe thead th {\n",
       "        text-align: right;\n",
       "    }\n",
       "</style>\n",
       "<table border=\"1\" class=\"dataframe\">\n",
       "  <thead>\n",
       "    <tr style=\"text-align: right;\">\n",
       "      <th></th>\n",
       "      <th>t</th>\n",
       "      <th>x</th>\n",
       "      <th>y</th>\n",
       "      <th>v</th>\n",
       "    </tr>\n",
       "  </thead>\n",
       "  <tbody>\n",
       "    <tr>\n",
       "      <th>0</th>\n",
       "      <td>0.000000</td>\n",
       "      <td>0.000542</td>\n",
       "      <td>0.072639</td>\n",
       "      <td>0.000000</td>\n",
       "    </tr>\n",
       "    <tr>\n",
       "      <th>1</th>\n",
       "      <td>0.033333</td>\n",
       "      <td>0.001058</td>\n",
       "      <td>0.072747</td>\n",
       "      <td>0.021659</td>\n",
       "    </tr>\n",
       "    <tr>\n",
       "      <th>2</th>\n",
       "      <td>0.066667</td>\n",
       "      <td>0.001937</td>\n",
       "      <td>0.073009</td>\n",
       "      <td>0.032920</td>\n",
       "    </tr>\n",
       "    <tr>\n",
       "      <th>3</th>\n",
       "      <td>0.100000</td>\n",
       "      <td>0.003076</td>\n",
       "      <td>0.073610</td>\n",
       "      <td>0.041401</td>\n",
       "    </tr>\n",
       "    <tr>\n",
       "      <th>4</th>\n",
       "      <td>0.133333</td>\n",
       "      <td>0.004554</td>\n",
       "      <td>0.073886</td>\n",
       "      <td>0.046547</td>\n",
       "    </tr>\n",
       "    <tr>\n",
       "      <th>...</th>\n",
       "      <td>...</td>\n",
       "      <td>...</td>\n",
       "      <td>...</td>\n",
       "      <td>...</td>\n",
       "    </tr>\n",
       "    <tr>\n",
       "      <th>84</th>\n",
       "      <td>2.800000</td>\n",
       "      <td>0.351816</td>\n",
       "      <td>0.052873</td>\n",
       "      <td>0.027675</td>\n",
       "    </tr>\n",
       "    <tr>\n",
       "      <th>85</th>\n",
       "      <td>2.833333</td>\n",
       "      <td>0.352989</td>\n",
       "      <td>0.052836</td>\n",
       "      <td>0.030295</td>\n",
       "    </tr>\n",
       "    <tr>\n",
       "      <th>86</th>\n",
       "      <td>2.866667</td>\n",
       "      <td>0.353822</td>\n",
       "      <td>0.052643</td>\n",
       "      <td>0.027789</td>\n",
       "    </tr>\n",
       "    <tr>\n",
       "      <th>87</th>\n",
       "      <td>2.900000</td>\n",
       "      <td>0.354828</td>\n",
       "      <td>0.052611</td>\n",
       "      <td>0.027675</td>\n",
       "    </tr>\n",
       "    <tr>\n",
       "      <th>88</th>\n",
       "      <td>2.933333</td>\n",
       "      <td>0.355666</td>\n",
       "      <td>0.052585</td>\n",
       "      <td>NaN</td>\n",
       "    </tr>\n",
       "  </tbody>\n",
       "</table>\n",
       "<p>89 rows × 4 columns</p>\n",
       "</div>"
      ],
      "text/plain": [
       "           t         x         y         v\n",
       "0   0.000000  0.000542  0.072639  0.000000\n",
       "1   0.033333  0.001058  0.072747  0.021659\n",
       "2   0.066667  0.001937  0.073009  0.032920\n",
       "3   0.100000  0.003076  0.073610  0.041401\n",
       "4   0.133333  0.004554  0.073886  0.046547\n",
       "..       ...       ...       ...       ...\n",
       "84  2.800000  0.351816  0.052873  0.027675\n",
       "85  2.833333  0.352989  0.052836  0.030295\n",
       "86  2.866667  0.353822  0.052643  0.027789\n",
       "87  2.900000  0.354828  0.052611  0.027675\n",
       "88  2.933333  0.355666  0.052585       NaN\n",
       "\n",
       "[89 rows x 4 columns]"
      ]
     },
     "execution_count": 73,
     "metadata": {},
     "output_type": "execute_result"
    }
   ],
   "source": [
    "data = pd.read_csv(\"../Data/6,1.csv\", skiprows=1)\n",
    "data.v[0] = 0\n",
    "data"
   ]
  },
  {
   "cell_type": "code",
   "execution_count": 46,
   "metadata": {},
   "outputs": [
    {
     "data": {
      "text/plain": [
       "[<matplotlib.lines.Line2D at 0x2d6189a56d0>]"
      ]
     },
     "execution_count": 46,
     "metadata": {},
     "output_type": "execute_result"
    },
    {
     "data": {
      "image/png": "[encoded data removed]",
      "text/plain": [
       "<Figure size 432x288 with 1 Axes>"
      ]
     },
     "metadata": {
      "needs_background": "light"
     },
     "output_type": "display_data"
    }
   ],
   "source": [
    "#Mechanical energy conservation\n",
    "U = m*cte.g0*data.y\n",
    "Kt = 0.5*m*data.v**2\n",
    "\n",
    "def r(x):\n",
    "    r = R.value - np.tan(the)*np.tan(psi)*x\n",
    "    return r\n",
    "\n",
    "Kr = 0.5*I*(data.v/r(data.x))**2\n",
    "\n",
    "Em = U+Kt+Kr\n",
    "plt.plot(data.x,Em)"
   ]
  },
  {
   "cell_type": "code",
   "execution_count": 36,
   "metadata": {},
   "outputs": [
    {
     "data": {
      "text/plain": [
       "[<matplotlib.lines.Line2D at 0x2d618979580>]"
      ]
     },
     "execution_count": 36,
     "metadata": {},
     "output_type": "execute_result"
    },
    {
     "data": {
      "image/png": "[encoded data removed]",
      "text/plain": [
       "<Figure size 432x288 with 1 Axes>"
      ]
     },
     "metadata": {
      "needs_background": "light"
     },
     "output_type": "display_data"
    }
   ],
   "source": [
    "# vx=[0]\n",
    "# vy=[0]\n",
    "# vt=[]\n",
    "# count = 1\n",
    "# for x in data.x[1:]:\n",
    "#     v = x/data.t[count]\n",
    "#     vx.append(v)\n",
    "#     count = count+1\n",
    "# count = 1\n",
    "# for y in data.y[1:]:\n",
    "#     v = y/data.t[count]\n",
    "#     vy.append(v)\n",
    "#     count = count+1\n",
    "# for i in range(0, len(vx), 1):\n",
    "#     v = np.sqrt(vx[i]**2 + vy[i]**2)\n",
    "#     vt.append(v)\n",
    "# plt.plot(data.t, vt)"
   ]
  },
  {
   "cell_type": "code",
   "execution_count": 13,
   "metadata": {},
   "outputs": [
    {
     "data": {
      "text/plain": [
       "[<matplotlib.lines.Line2D at 0x2d6178bf280>]"
      ]
     },
     "execution_count": 13,
     "metadata": {},
     "output_type": "execute_result"
    },
    {
     "data": {
      "image/png": "[encoded data removed]",
      "text/plain": [
       "<Figure size 432x288 with 1 Axes>"
      ]
     },
     "metadata": {
      "needs_background": "light"
     },
     "output_type": "display_data"
    }
   ],
   "source": [
    "plt.plot(data.t, data.v)"
   ]
  },
  {
   "cell_type": "code",
   "execution_count": 14,
   "metadata": {},
   "outputs": [
    {
     "data": {
      "text/plain": [
       "[<matplotlib.lines.Line2D at 0x2d617e3e1c0>]"
      ]
     },
     "execution_count": 14,
     "metadata": {},
     "output_type": "execute_result"
    },
    {
     "data": {
      "image/png": "[encoded data removed]",
      "text/plain": [
       "<Figure size 432x288 with 1 Axes>"
      ]
     },
     "metadata": {
      "needs_background": "light"
     },
     "output_type": "display_data"
    }
   ],
   "source": [
    "plt.plot(data.x,data.v)"
   ]
  },
  {
   "cell_type": "markdown",
   "metadata": {
    "id": "slcJeLxWTF9W"
   },
   "source": [
    "# Theoretical Model\n"
   ]
  },
  {
   "cell_type": "code",
   "execution_count": 15,
   "metadata": {
    "id": "1yQ2oms3zvks"
   },
   "outputs": [],
   "source": [
    "niu_k= 0.4\n",
    "\n",
    "t_1 = np.linspace(0,2.4,50) * u.s\n",
    "angle_1 = np.full(50,the)"
   ]
  },
  {
   "cell_type": "code",
   "execution_count": 16,
   "metadata": {
    "id": "VRglkGlxBEVx"
   },
   "outputs": [],
   "source": [
    "def R(angle,times):\n",
    "  X = 0.5*cte.g0*(np.sin(angle)-niu_k*np.cos(angle))*(times**2)\n",
    "  \n",
    "  return X"
   ]
  },
  {
   "cell_type": "code",
   "execution_count": 17,
   "metadata": {
    "id": "5JyiU_91WNpG"
   },
   "outputs": [],
   "source": [
    "r_pos=R(angle_1, t_1)"
   ]
  },
  {
   "cell_type": "code",
   "execution_count": 18,
   "metadata": {
    "id": "0WNOpAuqXlCU"
   },
   "outputs": [],
   "source": [
    "x_pos=r_pos*np.cos(angle_1)\n",
    "y_pos=r_pos*np.sin(angle_1)"
   ]
  },
  {
   "cell_type": "code",
   "execution_count": 19,
   "metadata": {
    "colab": {
     "base_uri": "https://localhost:8080/",
     "height": 57
    },
    "id": "_pniaEubbz5W",
    "outputId": "c0fddc9a-f9ba-44df-bfb3-404b98e24796"
   },
   "outputs": [
    {
     "data": {
      "text/latex": [
       "$[0,~0.00022009919,~0.00088039674,~0.0019808927,~0.003521587,~0.0055024796,~0.0079235707,~0.01078486,~0.014086348,~0.017828034,~0.022009919,~0.026632002,~0.031694283,~0.037196762,~0.04313944,~0.049522317,~0.056345392,~0.063608665,~0.071312136,~0.079455806,~0.088039674,~0.097063741,~0.10652801,~0.11643247,~0.12677713,~0.13756199,~0.14878705,~0.16045231,~0.17255776,~0.18510342,~0.19808927,~0.21151532,~0.22538157,~0.23968801,~0.25443466,~0.2696215,~0.28524855,~0.30131579,~0.31782322,~0.33477086,~0.3521587,~0.36998673,~0.38825496,~0.40696339,~0.42611202,~0.44570085,~0.46572988,~0.4861991,~0.50710852,~0.52845815] \\; \\mathrm{m}$"
      ],
      "text/plain": [
       "<Quantity [0.00000000e+00, 2.20099186e-04, 8.80396744e-04, 1.98089267e-03,\n",
       "           3.52158698e-03, 5.50247965e-03, 7.92357070e-03, 1.07848601e-02,\n",
       "           1.40863479e-02, 1.78280341e-02, 2.20099186e-02, 2.66320015e-02,\n",
       "           3.16942828e-02, 3.71967624e-02, 4.31394405e-02, 4.95223168e-02,\n",
       "           5.63453916e-02, 6.36086647e-02, 7.13121363e-02, 7.94558061e-02,\n",
       "           8.80396744e-02, 9.70637410e-02, 1.06528006e-01, 1.16432469e-01,\n",
       "           1.26777131e-01, 1.37561991e-01, 1.48787050e-01, 1.60452307e-01,\n",
       "           1.72557762e-01, 1.85103415e-01, 1.98089267e-01, 2.11515318e-01,\n",
       "           2.25381566e-01, 2.39688014e-01, 2.54434659e-01, 2.69621503e-01,\n",
       "           2.85248545e-01, 3.01315786e-01, 3.17823225e-01, 3.34770862e-01,\n",
       "           3.52158698e-01, 3.69986732e-01, 3.88254964e-01, 4.06963395e-01,\n",
       "           4.26112024e-01, 4.45700852e-01, 4.65729878e-01, 4.86199102e-01,\n",
       "           5.07108524e-01, 5.28458146e-01] m>"
      ]
     },
     "execution_count": 19,
     "metadata": {},
     "output_type": "execute_result"
    }
   ],
   "source": [
    "y_pos"
   ]
  },
  {
   "cell_type": "code",
   "execution_count": 64,
   "metadata": {
    "id": "ik8vuWZKb040"
   },
   "outputs": [
    {
     "data": {
      "text/plain": [
       "[<matplotlib.lines.Line2D at 0x2d61a3e5220>]"
      ]
     },
     "execution_count": 64,
     "metadata": {},
     "output_type": "execute_result"
    },
    {
     "data": {
      "image/png": "[encoded data removed]",
      "text/plain": [
       "<Figure size 432x288 with 1 Axes>"
      ]
     },
     "metadata": {
      "needs_background": "light"
     },
     "output_type": "display_data"
    }
   ],
   "source": [
    "vx=np.array([0])\n",
    "vy=np.array([0])\n",
    "for i in range(1, len(data.x), 1):\n",
    "    v = (data.x[i] - data.x[i-1])/(data.t[i] - data.t[i-1])\n",
    "    vx = np.append(vx, [v])\n",
    "for i in range(1, len(data.x), 1):\n",
    "    v = (data.y[i] - data.y[i-1])/(data.t[i] - data.t[i-1])\n",
    "    vy = np.append(vy, [v])\n",
    "    \n",
    "v = np.sqrt(vx**2 + vy**2)\n",
    "plt.plot(data.x, v)"
   ]
  },
  {
   "cell_type": "code",
   "execution_count": 70,
   "metadata": {},
   "outputs": [
    {
     "data": {
      "text/plain": [
       "[<matplotlib.lines.Line2D at 0x2d618e70e20>]"
      ]
     },
     "execution_count": 70,
     "metadata": {},
     "output_type": "execute_result"
    },
    {
     "data": {
      "image/png": "[encoded data removed]",
      "text/plain": [
       "<Figure size 432x288 with 1 Axes>"
      ]
     },
     "metadata": {
      "needs_background": "light"
     },
     "output_type": "display_data"
    }
   ],
   "source": [
    "plt.plot(data.x,data.y)"
   ]
  },
  {
   "cell_type": "code",
   "execution_count": 71,
   "metadata": {},
   "outputs": [
    {
     "data": {
      "text/latex": [
       "$0.036434588 \\; \\mathrm{\\frac{m^{2}}{s}}$"
      ],
      "text/plain": [
       "<Quantity 0.03643459 m2 / s>"
      ]
     },
     "execution_count": 71,
     "metadata": {},
     "output_type": "execute_result"
    }
   ],
   "source": [
    "np.sqrt(10*cte.g0*(data.y[0]-data.y[len(data.y)-1])*u.m/3*R**2)"
   ]
  }
 ],
 "metadata": {
  "colab": {
   "name": "Proyecto Doble Cono.ipynb",
   "provenance": []
  },
  "kernelspec": {
   "display_name": "Python 3 (ipykernel)",
   "language": "python",
   "name": "python3"
  },
  "language_info": {
   "codemirror_mode": {
    "name": "ipython",
    "version": 3
   },
   "file_extension": ".py",
   "mimetype": "text/x-python",
   "name": "python",
   "nbconvert_exporter": "python",
   "pygments_lexer": "ipython3",
   "version": "3.9.7"
  }
 },
 "nbformat": 4,
 "nbformat_minor": 4
}
