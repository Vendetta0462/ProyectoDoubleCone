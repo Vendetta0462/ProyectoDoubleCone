{
  "nbformat": 4,
  "nbformat_minor": 0,
  "metadata": {
    "colab": {
      "name": "Proyecto Doble Cono.ipynb",
      "provenance": []
    },
    "kernelspec": {
      "name": "python3",
      "display_name": "Python 3"
    },
    "language_info": {
      "name": "python"
    }
  },
  "cells": [
    {
      "cell_type": "code",
      "source": [
        "import numpy as np\n",
        "import pandas as pd\n",
        "import matplotlib.pyplot as plt\n",
        "import astropy.units as u\n",
        "import astropy.constants as cte"
      ],
      "metadata": {
        "id": "4yD13GsQ1CEp"
      },
      "execution_count": null,
      "outputs": []
    },
    {
      "cell_type": "markdown",
      "source": [
        "# Theoretical Analysis"
      ],
      "metadata": {
        "id": "Yylp0ZlM7yry"
      }
    },
    {
      "cell_type": "code",
      "source": [
        "#Initial parameters\n",
        "m = 0.255 * u.kg\n",
        "R = (4.5 * u.cm).to(u.m)\n",
        "l = (10 * u.cm).to(u.m)\n",
        "L = (70 * u.cm).to(u.m)\n",
        "the = np.arctan(R/l)\n",
        "phi = np.arctan((5*u.cm).to(u.m)/L)\n",
        "psi = (15 * u.degree).to(u.rad)\n",
        "niu_k= 0.4\n"
      ],
      "metadata": {
        "id": "MUyQ186W75NN"
      },
      "execution_count": null,
      "outputs": []
    },
    {
      "cell_type": "code",
      "source": [
        "#Validatin tangents condition and calculating equilibrium psi\n",
        "if np.tan(phi) < np.tan(psi)*np.tan(the):\n",
        "  print(\"The condition is accomplished\")\n",
        "else:\n",
        "  print(\"The condition isn't accomplished, change initial parameters\")\n",
        "\n",
        "eq_psi = np.arctan(np.tan(phi)/np.tan(the))\n",
        "print(\"The equilibrium psi angle is:\", round(eq_psi.to(u.deg).value,2)*u.deg)"
      ],
      "metadata": {
        "colab": {
          "base_uri": "https://localhost:8080/"
        },
        "id": "II0J1RIKG4-k",
        "outputId": "674a2728-47b8-44f9-e3ae-b879bc196bd2"
      },
      "execution_count": null,
      "outputs": [
        {
          "output_type": "stream",
          "name": "stdout",
          "text": [
            "The condition is accomplished\n",
            "The equilibrium psi angle is: 9.02 deg\n"
          ]
        }
      ]
    },
    {
      "cell_type": "code",
      "source": [
        "#Calculatin height over time\n",
        "r = R-np.tan(the)*np.tan(psi)*x\n"
      ],
      "metadata": {
        "id": "_fGQDuQpLczW"
      },
      "execution_count": null,
      "outputs": []
    },
    {
      "cell_type": "markdown",
      "source": [
        "# Importing Data"
      ],
      "metadata": {
        "id": "r7MqcE1B0L01"
      }
    },
    {
      "cell_type": "code",
      "source": [
        "Data = pd.read_csv()"
      ],
      "metadata": {
        "id": "KMFcO2iRCNsH"
      },
      "execution_count": null,
      "outputs": []
    },
    {
      "cell_type": "markdown",
      "source": [
        "# Theoretical Model"
      ],
      "metadata": {
        "id": "slcJeLxWTF9W"
      }
    },
    {
      "cell_type": "code",
      "execution_count": null,
      "metadata": {
        "id": "1yQ2oms3zvks"
      },
      "outputs": [],
      "source": [
        "t_1 = np.linspace(0,2.4,50) * u.s\n",
        "angle_1 = np.full(50,the)"
      ]
    },
    {
      "cell_type": "code",
      "source": [
        "def R(angle,times):\n",
        "  X = 0.5*cte.g0*(np.sin(angle)-niu_k*np.cos(angle))*(times**2)\n",
        "  \n",
        "  return X"
      ],
      "metadata": {
        "id": "VRglkGlxBEVx"
      },
      "execution_count": null,
      "outputs": []
    },
    {
      "cell_type": "code",
      "source": [
        "r_pos=R(angle_1, t_1)"
      ],
      "metadata": {
        "id": "5JyiU_91WNpG"
      },
      "execution_count": null,
      "outputs": []
    },
    {
      "cell_type": "code",
      "source": [
        "x_pos=r_pos*np.cos(angle_1)\n",
        "y_pos=r_pos*np.sin(angle_1)"
      ],
      "metadata": {
        "id": "0WNOpAuqXlCU"
      },
      "execution_count": null,
      "outputs": []
    },
    {
      "cell_type": "code",
      "source": [
        "y_pos"
      ],
      "metadata": {
        "colab": {
          "base_uri": "https://localhost:8080/",
          "height": 57
        },
        "id": "_pniaEubbz5W",
        "outputId": "c0fddc9a-f9ba-44df-bfb3-404b98e24796"
      },
      "execution_count": null,
      "outputs": [
        {
          "output_type": "execute_result",
          "data": {
            "text/latex": "$[0,~0.00022009919,~0.00088039674,~0.0019808927,~0.003521587,~0.0055024796,~0.0079235707,~0.01078486,~0.014086348,~0.017828034,~0.022009919,~0.026632002,~0.031694283,~0.037196762,~0.04313944,~0.049522317,~0.056345392,~0.063608665,~0.071312136,~0.079455806,~0.088039674,~0.097063741,~0.10652801,~0.11643247,~0.12677713,~0.13756199,~0.14878705,~0.16045231,~0.17255776,~0.18510342,~0.19808927,~0.21151532,~0.22538157,~0.23968801,~0.25443466,~0.2696215,~0.28524855,~0.30131579,~0.31782322,~0.33477086,~0.3521587,~0.36998673,~0.38825496,~0.40696339,~0.42611202,~0.44570085,~0.46572988,~0.4861991,~0.50710852,~0.52845815] \\; \\mathrm{m}$",
            "text/plain": [
              "<Quantity [0.00000000e+00, 2.20099186e-04, 8.80396744e-04, 1.98089267e-03,\n",
              "           3.52158698e-03, 5.50247965e-03, 7.92357070e-03, 1.07848601e-02,\n",
              "           1.40863479e-02, 1.78280341e-02, 2.20099186e-02, 2.66320015e-02,\n",
              "           3.16942828e-02, 3.71967624e-02, 4.31394405e-02, 4.95223168e-02,\n",
              "           5.63453916e-02, 6.36086647e-02, 7.13121363e-02, 7.94558061e-02,\n",
              "           8.80396744e-02, 9.70637410e-02, 1.06528006e-01, 1.16432469e-01,\n",
              "           1.26777131e-01, 1.37561991e-01, 1.48787050e-01, 1.60452307e-01,\n",
              "           1.72557762e-01, 1.85103415e-01, 1.98089267e-01, 2.11515318e-01,\n",
              "           2.25381566e-01, 2.39688014e-01, 2.54434659e-01, 2.69621503e-01,\n",
              "           2.85248545e-01, 3.01315786e-01, 3.17823225e-01, 3.34770862e-01,\n",
              "           3.52158698e-01, 3.69986732e-01, 3.88254964e-01, 4.06963395e-01,\n",
              "           4.26112024e-01, 4.45700852e-01, 4.65729878e-01, 4.86199102e-01,\n",
              "           5.07108524e-01, 5.28458146e-01] m>"
            ]
          },
          "metadata": {},
          "execution_count": 39
        }
      ]
    },
    {
      "cell_type": "code",
      "source": [
        ""
      ],
      "metadata": {
        "id": "ik8vuWZKb040"
      },
      "execution_count": null,
      "outputs": []
    }
  ]
}